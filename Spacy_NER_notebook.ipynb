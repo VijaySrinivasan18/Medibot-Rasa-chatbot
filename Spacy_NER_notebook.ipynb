{
 "cells": [
  {
   "cell_type": "code",
   "execution_count": 25,
   "metadata": {},
   "outputs": [],
   "source": [
    "import pandas as pd\n",
    "import os\n",
    "import numpy as np\n",
    "import re"
   ]
  },
  {
   "cell_type": "code",
   "execution_count": 17,
   "metadata": {},
   "outputs": [],
   "source": [
    "unique_med=pd.read_excel(r\"D:/vijay/gritsys-rasa/med_list.xlsx\",usecols=[\"Med\"])"
   ]
  },
  {
   "cell_type": "code",
   "execution_count": 23,
   "metadata": {},
   "outputs": [
    {
     "data": {
      "text/html": [
       "<div>\n",
       "<style scoped>\n",
       "    .dataframe tbody tr th:only-of-type {\n",
       "        vertical-align: middle;\n",
       "    }\n",
       "\n",
       "    .dataframe tbody tr th {\n",
       "        vertical-align: top;\n",
       "    }\n",
       "\n",
       "    .dataframe thead th {\n",
       "        text-align: right;\n",
       "    }\n",
       "</style>\n",
       "<table border=\"1\" class=\"dataframe\">\n",
       "  <thead>\n",
       "    <tr style=\"text-align: right;\">\n",
       "      <th></th>\n",
       "      <th>Med</th>\n",
       "    </tr>\n",
       "  </thead>\n",
       "  <tbody>\n",
       "    <tr>\n",
       "      <th>0</th>\n",
       "      <td>Saridon</td>\n",
       "    </tr>\n",
       "    <tr>\n",
       "      <th>1</th>\n",
       "      <td>dolo650</td>\n",
       "    </tr>\n",
       "    <tr>\n",
       "      <th>2</th>\n",
       "      <td>gelusil</td>\n",
       "    </tr>\n",
       "    <tr>\n",
       "      <th>3</th>\n",
       "      <td>combiflame</td>\n",
       "    </tr>\n",
       "    <tr>\n",
       "      <th>4</th>\n",
       "      <td>Crocin</td>\n",
       "    </tr>\n",
       "  </tbody>\n",
       "</table>\n",
       "</div>"
      ],
      "text/plain": [
       "          Med\n",
       "0     Saridon\n",
       "1     dolo650\n",
       "2     gelusil\n",
       "3  combiflame\n",
       "4      Crocin"
      ]
     },
     "execution_count": 23,
     "metadata": {},
     "output_type": "execute_result"
    }
   ],
   "source": [
    "unique_med.head(5)"
   ]
  },
  {
   "cell_type": "code",
   "execution_count": 21,
   "metadata": {},
   "outputs": [
    {
     "data": {
      "text/plain": [
       "100"
      ]
     },
     "execution_count": 21,
     "metadata": {},
     "output_type": "execute_result"
    }
   ],
   "source": [
    "np.unique(unique_med).size"
   ]
  },
  {
   "cell_type": "markdown",
   "metadata": {},
   "source": [
    "###  We have 100 unique medicines used in training examples for Entity Recognition model"
   ]
  },
  {
   "cell_type": "markdown",
   "metadata": {},
   "source": [
    "###  Reading Training examples"
   ]
  },
  {
   "cell_type": "code",
   "execution_count": 28,
   "metadata": {},
   "outputs": [],
   "source": [
    "#  Converting input data to a form that can be used for Annotating\n",
    "\n",
    "with open(r\"D:\\vijay\\gritsys-rasa\\custom_examples.txt\",\"r\") as s:\n",
    "    t=s.read()\n",
    "    t=re.sub(\"]\",\"\",re.sub(\"\\[\",\"\",t))\n",
    "    t=re.sub(\"\\(\",\"\",t)\n",
    "    t=re.sub(\"\\)\",\"\",t)\n",
    "    t=re.sub(\";\",\"\",t)\n",
    "    t=re.sub(\"medicine_name\",\"\",t)"
   ]
  },
  {
   "cell_type": "code",
   "execution_count": 30,
   "metadata": {},
   "outputs": [],
   "source": [
    "#  Saving training example with correct format\n",
    "\n",
    "with open(r\"spacy_input_examples/custom_examples_new_format.txt\",\"w\") as s:\n",
    "    s.write(t)"
   ]
  },
  {
   "cell_type": "code",
   "execution_count": 34,
   "metadata": {},
   "outputs": [],
   "source": [
    "# We can now Annotate the input example for Entity \"Medicine_name\"  using NER Entity Annotator - \n",
    "# [ https://tecoholic.github.io/ner-annotator/ ] and output with annotation be stored in  spacy_input_examples/  folder"
   ]
  },
  {
   "cell_type": "code",
   "execution_count": 35,
   "metadata": {},
   "outputs": [
    {
     "name": "stderr",
     "output_type": "stream",
     "text": [
      "c:\\Users\\Vijay\\anaconda3\\envs\\capestone_1\\lib\\site-packages\\scipy\\__init__.py:146: UserWarning: A NumPy version >=1.16.5 and <1.23.0 is required for this version of SciPy (detected version 1.23.3\n",
      "  warnings.warn(f\"A NumPy version >={np_minversion} and <{np_maxversion}\"\n"
     ]
    }
   ],
   "source": [
    "#  Now we have our input data with Annotations for Entity. Let us start building the model\n",
    "\n",
    "import spacy\n",
    "from spacy.tokens import DocBin\n",
    "from tqdm import tqdm\n",
    "import json"
   ]
  },
  {
   "cell_type": "code",
   "execution_count": 37,
   "metadata": {},
   "outputs": [],
   "source": [
    "#  Create  blank spacy model that can be trained on our data and create empty Docbin file \n",
    "\n",
    "nlp=spacy.blank(\"en\")  # new   blank spacy model\n",
    "db=DocBin()"
   ]
  },
  {
   "cell_type": "code",
   "execution_count": 40,
   "metadata": {},
   "outputs": [],
   "source": [
    "annoted_inputs=  open(r\"spacy_input_examples/input_medicine_annots.json\",\"r\")\n",
    "annoted_inputs=json.load(annoted_inputs)"
   ]
  },
  {
   "cell_type": "code",
   "execution_count": 42,
   "metadata": {},
   "outputs": [
    {
     "name": "stdout",
     "output_type": "stream",
     "text": [
      "{'classes': ['MEDICINE_NAME'], 'annotations': [['I wanted to know about  Saridon tablet\\r', {'entities': [[24, 31, 'MEDICINE_NAME']]}], ['For what dolo650  tablet is used?\\r', {'entities': [[9, 16, 'MEDICINE_NAME']]}], ['Help me understand the side effects and usage of gelusil drug?\\r', {'entities': [[49, 56, 'MEDICINE_NAME']]}], ['Uses of combiflame syrup\\r', {'entities': [[8, 18, 'MEDICINE_NAME']]}], ['Dosage instructions for Saridon?\\r', {'entities': [[24, 31, 'MEDICINE_NAME']]}], ['May I know the usage of Saridon drug?\\r', {'entities': [[24, 31, 'MEDICINE_NAME']]}], ['May I know the side effects of Saridon drug?\\r', {'entities': [[31, 38, 'MEDICINE_NAME']]}], ['I need to understand the side effects of Crocin tablet\\r', {'entities': [[41, 47, 'MEDICINE_NAME']]}], ['Would you help me understand about combiflame\\r', {'entities': [[35, 45, 'MEDICINE_NAME']]}], ['Dosage information of Saridon\\r', {'entities': [[22, 29, 'MEDICINE_NAME']]}], ['Interested in understanding effect of Combiflame\\r', {'entities': [[38, 48, 'MEDICINE_NAME']]}], ['I need to understand the dosage information of of Crocinl tablet\\r', {'entities': [[50, 57, 'MEDICINE_NAME']]}], ['Let me know about side effects of Crocin\\r', {'entities': [[34, 40, 'MEDICINE_NAME']]}], ['May I know uses of coldact capsule\\r', {'entities': [[19, 34, 'MEDICINE_NAME']]}], ['Side effects of combiflame has to be known\\r', {'entities': [[16, 26, 'MEDICINE_NAME']]}], ['Need to understand the uses and side effect of Crocin\\r', {'entities': [[47, 53, 'MEDICINE_NAME']]}], ['Could you provide the usage of saridon tablet\\r', {'entities': [[31, 38, 'MEDICINE_NAME']]}], ['Could you provide the dosage information about saridon tablet\\r', {'entities': [[47, 54, 'MEDICINE_NAME']]}], ['What are the usage and side effects of Augmentin-625 tablet?\\r', {'entities': [[39, 52, 'MEDICINE_NAME']]}], ['Help me understand the dosage information of Crocin drug?\\r', {'entities': [[45, 51, 'MEDICINE_NAME']]}], ['Let me know the dosage information of Erithromycin medicne\\r', {'entities': [[38, 50, 'MEDICINE_NAME']]}], ['Uses of Ascoril LS syrup\\r', {'entities': [[8, 24, 'MEDICINE_NAME']]}], ['Can I know the about the side effects of Flexon medicne\\r', {'entities': [[41, 47, 'MEDICINE_NAME']]}], ['Can I have my food before using this tablet Stemetil MD medicne\\r', {'entities': [[44, 55, 'MEDICINE_NAME']]}], ['Usage of Ganaton medicne\\r', {'entities': [[9, 16, 'MEDICINE_NAME']]}], ['Uses of Stemetil MD medicne\\r', {'entities': [[8, 19, 'MEDICINE_NAME']]}], ['I wanted to know about  Omee Capsule tablet?\\r', {'entities': [[24, 36, 'MEDICINE_NAME']]}], ['Help me understand the dosage information of Dydroboon drug?\\r', {'entities': [[45, 54, 'MEDICINE_NAME']]}], ['May I know the usage of Terbinaforce drug?\\r', {'entities': [[24, 36, 'MEDICINE_NAME']]}], ['Usage of Hifenac medicne\\r', {'entities': [[9, 16, 'MEDICINE_NAME']]}], ['For what Zerodol-P  tablet is used?\\r', {'entities': [[9, 18, 'MEDICINE_NAME']]}], ['Dosage instructions for Udiliv 300?\\r', {'entities': [[24, 34, 'MEDICINE_NAME']]}], ['Let me know about side effects of Febutaz 40\\r', {'entities': [[34, 44, 'MEDICINE_NAME']]}], ['May I know the usage of Qutipin 25 drug?\\r', {'entities': [[24, 34, 'MEDICINE_NAME']]}], ['Side effects of Ecosprin-AV 75 has to be known\\r', {'entities': [[16, 30, 'MEDICINE_NAME']]}], ['I need to understand the dosage information of of Valium 5 tablet\\r', {'entities': [[50, 58, 'MEDICINE_NAME']]}], ['Could you provide the usage of Vigore 50 Red tablet\\r', {'entities': [[31, 44, 'MEDICINE_NAME']]}], ['Need to understand the uses and side effect of Xykaa MR 4\\r', {'entities': [[47, 57, 'MEDICINE_NAME']]}], ['May I know uses of Jubira 10 tablet\\r', {'entities': [[19, 28, 'MEDICINE_NAME']]}], ['For what Jointflex  tablet is used?\\r', {'entities': [[9, 18, 'MEDICINE_NAME']]}], ['Dosage instructions for Keto-B Cream?\\r', {'entities': [[24, 30, 'MEDICINE_NAME']]}], ['Usage of Kcl Injection injection\\r', {'entities': [[9, 22, 'MEDICINE_NAME']]}], ['Let me know about side effects of Crocin\\r', {'entities': [[34, 40, 'MEDICINE_NAME']]}], ['I wanted to know about  Cepodem 200 tablet?\\r', {'entities': [[24, 35, 'MEDICINE_NAME']]}], ['Would you help me understand about Dalacin C 300mg\\r', {'entities': [[35, 50, 'MEDICINE_NAME']]}], ['Help me understand the dosage information of Duphalac Oral Solution Lemon syrup?\\r', {'entities': [[45, 73, 'MEDICINE_NAME']]}], ['Uses of Grilinctus Syrup syrup\\r', {'entities': [[8, 24, 'MEDICINE_NAME']]}], ['Need to understand the uses and side effect of Ismo 10 Tablet\\r', {'entities': [[47, 54, 'MEDICINE_NAME']]}], ['I wanted to know about  Ismo 20 Tablet tablet?\\r', {'entities': [[24, 31, 'MEDICINE_NAME']]}], ['Side effects of Pan-D Capsule PR has to be known\\r', {'entities': [[16, 32, 'MEDICINE_NAME']]}], ['May I know the usage of Pause 500 Tablet drug?\\r', {'entities': [[24, 33, 'MEDICINE_NAME']]}], ['Dosage instructions for Pantosec?\\r', {'entities': [[24, 32, 'MEDICINE_NAME']]}], ['I need to understand the dosage information of of Qutipin 100 tablet\\r', {'entities': [[50, 61, 'MEDICINE_NAME']]}], ['Let me know about side effects of Orcerin GM\\r', {'entities': [[34, 44, 'MEDICINE_NAME']]}], ['Help me understand the dosage information of Flagyl 400 tablet?\\r', {'entities': [[45, 55, 'MEDICINE_NAME']]}], ['For what Meftal-Spas  tablet is used?\\r', {'entities': [[9, 20, 'MEDICINE_NAME']]}], ['usage of Urotone medicne\\r', {'entities': [[9, 16, 'MEDICINE_NAME']]}], ['Please get me the usage and side effects of Veltam 0.4 Tablet MR\\r', {'entities': [[44, 54, 'MEDICINE_NAME']]}], ['Would you help me understand about Voveran 50 GE\\r', {'entities': [[35, 48, 'MEDICINE_NAME']]}], ['Can you get me some dosage information about Vilpill 50mg\\r', {'entities': [[45, 57, 'MEDICINE_NAME']]}], ['Side effects and usage of Kenacort 40mg Injection has to be known\\r', {'entities': [[26, 39, 'MEDICINE_NAME']]}], ['Would you help me understand about Krimson 35 tablet\\r', {'entities': [[35, 45, 'MEDICINE_NAME']]}], ['I wanted to know about  Kufril LS Syrup\\r', {'entities': [[24, 33, 'MEDICINE_NAME']]}], ['Need to understand the uses and side effect of K-Cor 5 tablet\\r', {'entities': [[47, 54, 'MEDICINE_NAME']]}], ['Help me understand the dosage information of Ketoford 10mg Tablet DT\\r', {'entities': [[45, 68, 'MEDICINE_NAME']]}], ['Interested in understanding the effects of Konicef 500mg Injection\\r', {'entities': [[43, 56, 'MEDICINE_NAME']]}], ['Could you provide the usage of Kyricef 200mg tablet\\r', {'entities': [[31, 44, 'MEDICINE_NAME']]}], ['For what Montek LC  tablet is used?\\r', {'entities': [[9, 18, 'MEDICINE_NAME']]}], ['Dosage instructions for Montair-LC?\\r', {'entities': [[24, 34, 'MEDICINE_NAME']]}], ['I wanted to know about  Moxikind-CV 625 tablet\\r', {'entities': [[24, 39, 'MEDICINE_NAME']]}], ['Help me understand the side effects and usage of Medrol 4mg drug?\\r', {'entities': [[49, 59, 'MEDICINE_NAME']]}], ['I need to understand the dosage information of Methylcortil 8mg tablet\\r', {'entities': [[47, 63, 'MEDICINE_NAME']]}], ['Dosage instructions for Rifagut 400?\\r', {'entities': [[24, 35, 'MEDICINE_NAME']]}], ['Uses of Razo 20 tablet\\r', {'entities': [[8, 15, 'MEDICINE_NAME']]}], ['Please get me the usage and side effects of Renolog tablet\\r', {'entities': [[44, 51, 'MEDICINE_NAME']]}], ['Can you get me some dosage information about Resteclin 500 Capsule\\r', {'entities': [[45, 58, 'MEDICINE_NAME']]}], ['Could you provide the usage of Ondem-MD 4 tablet\\r', {'entities': [[31, 41, 'MEDICINE_NAME']]}], ['Help me understand the side effects and usage of Oflox 200 drug?\\r', {'entities': [[49, 58, 'MEDICINE_NAME']]}], ['For what Oxetol 300  tablet is used?\\r', {'entities': [[9, 19, 'MEDICINE_NAME']]}], ['Could you provide the usage of Oratil 500 tablet\\r', {'entities': [[31, 41, 'MEDICINE_NAME']]}], ['usage of Olimab 60mg Injection medicne\\r', {'entities': [[9, 20, 'MEDICINE_NAME']]}], ['Please get me the usage and side effects of Intagesic-MR tablet\\r', {'entities': [[44, 56, 'MEDICINE_NAME']]}], ['Can I know the about the side effects of Istavel D medicne\\r', {'entities': [[41, 50, 'MEDICINE_NAME']]}], ['Can I have my food before using this tablet Ibugesic Plus tablet\\r', {'entities': [[44, 57, 'MEDICINE_NAME']]}], ['Would you help me understand about Insifu 750mg Injection tablet\\r', {'entities': [[35, 57, 'MEDICINE_NAME']]}], ['Need to understand the uses and side effect of Ibipod CV Syrup\\r', {'entities': [[47, 56, 'MEDICINE_NAME']]}], ['Please get me the usage and side effects of Flavospas Tablet\\r', {'entities': [[44, 53, 'MEDICINE_NAME']]}], ['I need to understand the side effects of Zolfresh 10mg tablet\\r', {'entities': [[41, 54, 'MEDICINE_NAME']]}], ['Dosage instructions for Zapiz 0.5 tablet\\r', {'entities': [[24, 33, 'MEDICINE_NAME']]}], ['Uses of Zanocin 200 tablet\\r', {'entities': [[8, 19, 'MEDICINE_NAME']]}], ['Please get me the usage and side effects of Zayo 50\\r', {'entities': [[44, 51, 'MEDICINE_NAME']]}], ['Tell me the side effects of Zinase-D tablet\\r', {'entities': [[28, 36, 'MEDICINE_NAME']]}], ['Could you provide the usage of Imatib 400 tablet\\r', {'entities': [[31, 41, 'MEDICINE_NAME']]}], ['Would you help me understand about Isotroin 10 Capsule\\r', {'entities': [[35, 46, 'MEDICINE_NAME']]}], ['Uses of Intajac 5mg tablet\\r', {'entities': [[8, 19, 'MEDICINE_NAME']]}], ['Need to understand the uses and side effect of Isordil 10 tablet\\r', {'entities': [[47, 57, 'MEDICINE_NAME']]}], ['For what Intalith CR 450 tablet is used?\\r', {'entities': [[9, 24, 'MEDICINE_NAME']]}], ['Would you help me understand about Qutipin 200 tablet\\r', {'entities': [[35, 46, 'MEDICINE_NAME']]}], ['Tell me the side effects of Qutan SR 100 tablet\\r', {'entities': [[28, 40, 'MEDICINE_NAME']]}], ['Need to understand the uses and side effect of Quetigress 50 tablet\\r', {'entities': [[47, 60, 'MEDICINE_NAME']]}], ['Could you provide the usage of Qxone 500mg Injection\\r', {'entities': [[31, 42, 'MEDICINE_NAME']]}], ['Help me understand the dosage information of Ketanov DT 10mg tablet?\\r', {'entities': [[45, 60, 'MEDICINE_NAME']]}], ['Can I have my food before using this tablet Kan 500mg tablet\\r', {'entities': [[44, 53, 'MEDICINE_NAME']]}], ['Uses of Korandil 10 tablet\\r', {'entities': [[8, 19, 'MEDICINE_NAME']]}], ['I need to understand the side effects of Ketograce tablet\\r', {'entities': [[41, 50, 'MEDICINE_NAME']]}], ['Help me understand the side effects and usage of K-Stat 250 tablet\\r', {'entities': [[49, 59, 'MEDICINE_NAME']]}], ['Please get me the usage and side effects of Kinetozyme-D tablet\\r', {'entities': [[44, 56, 'MEDICINE_NAME']]}], ['Uses of Etoshine 60 tablet\\r', {'entities': [[8, 19, 'MEDICINE_NAME']]}], ['Would you help me understand about Estroplus tablet\\r', {'entities': [[35, 44, 'MEDICINE_NAME']]}], ['I wanted to know about  Epsolin 100 tablet\\r', {'entities': [[24, 35, 'MEDICINE_NAME']]}], ['Need to understand the uses and side effect of Levocet M\\r', {'entities': [[47, 56, 'MEDICINE_NAME']]}], ['Side effects of Lyser D tablet has to be known\\r', {'entities': [[16, 23, 'MEDICINE_NAME']]}], ['Dosage instructions for Lesuride tablet\\r', {'entities': [[24, 32, 'MEDICINE_NAME']]}], ['Help me understand the dosage information of Urimax D Tablet MR\\r', {'entities': [[45, 63, 'MEDICINE_NAME']]}], ['For what Ucozeth 250mg tablet is used?\\r', {'entities': [[9, 22, 'MEDICINE_NAME']]}], ['Interested in understanding effect of Ucopen 1000mg Injection\\r', {'entities': [[38, 51, 'MEDICINE_NAME']]}], ['Please get me the usage and side effects of Montemac-L tablet', {'entities': [[44, 54, 'MEDICINE_NAME']]}]]}\n"
     ]
    }
   ],
   "source": [
    "#   Input text with Annotations in JSON format\n",
    "print(annoted_inputs)"
   ]
  },
  {
   "cell_type": "code",
   "execution_count": 43,
   "metadata": {},
   "outputs": [
    {
     "name": "stderr",
     "output_type": "stream",
     "text": [
      "100%|██████████| 117/117 [00:00<00:00, 1857.18it/s]\n"
     ]
    }
   ],
   "source": [
    "#  Converting our input text to Spacy span object and adding it to Docbin object which we have created\n",
    "\n",
    "\n",
    "for text, annot in tqdm(annoted_inputs['annotations']): \n",
    "    doc = nlp.make_doc(text) \n",
    "    ents = []\n",
    "    for start, end, label in annot[\"entities\"]:\n",
    "        span = doc.char_span(start, end, label=label, alignment_mode=\"contract\")\n",
    "        if span is None:\n",
    "            print(\"Skipping entity\")\n",
    "        else:\n",
    "            ents.append(span)\n",
    "\n",
    "    doc.ents = ents \n",
    "    db.add(doc)\n",
    "\n",
    "# Store the docbin object to disk\n",
    "db.to_disk(\"spacy_input_examples/training_data.spacy\") # save the docbin object"
   ]
  },
  {
   "cell_type": "code",
   "execution_count": 44,
   "metadata": {},
   "outputs": [
    {
     "name": "stdout",
     "output_type": "stream",
     "text": [
      "⚠ To generate a more effective transformer-based config (GPU-only), install the\n",
      "spacy-transformers package and re-run this command. The config generated now\n",
      "does not use transformers.\n",
      "ℹ Generated config template specific for your use case\n",
      "- Language: en\n",
      "- Pipeline: ner\n",
      "- Optimize for: efficiency\n",
      "- Hardware: CPU\n",
      "- Transformer: None\n",
      "✔ Auto-filled config with all values\n",
      "✔ Saved config\n",
      "config.cfg\n",
      "You can now add your data and train your pipeline:\n",
      "python -m spacy train config.cfg --paths.train ./train.spacy --paths.dev ./dev.spacy\n"
     ]
    },
    {
     "name": "stderr",
     "output_type": "stream",
     "text": [
      "2023-01-15 22:55:27.412011: W tensorflow/stream_executor/platform/default/dso_loader.cc:64] Could not load dynamic library 'cudart64_110.dll'; dlerror: cudart64_110.dll not found\n",
      "2023-01-15 22:55:27.412640: I tensorflow/stream_executor/cuda/cudart_stub.cc:29] Ignore above cudart dlerror if you do not have a GPU set up on your machine.\n",
      "c:\\Users\\Vijay\\anaconda3\\envs\\capestone_1\\lib\\site-packages\\scipy\\__init__.py:146: UserWarning: A NumPy version >=1.16.5 and <1.23.0 is required for this version of SciPy (detected version 1.23.3\n",
      "  warnings.warn(f\"A NumPy version >={np_minversion} and <{np_maxversion}\"\n",
      "2023-01-15 22:55:33.953063: W tensorflow/stream_executor/platform/default/dso_loader.cc:64] Could not load dynamic library 'nvcuda.dll'; dlerror: nvcuda.dll not found\n",
      "2023-01-15 22:55:33.953645: W tensorflow/stream_executor/cuda/cuda_driver.cc:269] failed call to cuInit: UNKNOWN ERROR (303)\n",
      "2023-01-15 22:55:33.969432: I tensorflow/stream_executor/cuda/cuda_diagnostics.cc:169] retrieving CUDA diagnostic information for host: Vijay-Srinivasan-laptop\n",
      "2023-01-15 22:55:33.970188: I tensorflow/stream_executor/cuda/cuda_diagnostics.cc:176] hostname: Vijay-Srinivasan-laptop\n"
     ]
    }
   ],
   "source": [
    "# creating Config file   -  This pipeline has English as Language and it is configured to run in CPU\n",
    "! python -m spacy init config config.cfg --lang en --pipeline ner --optimize efficiency"
   ]
  },
  {
   "cell_type": "code",
   "execution_count": 45,
   "metadata": {},
   "outputs": [
    {
     "name": "stdout",
     "output_type": "stream",
     "text": [
      "ℹ Saving to output directory: spacy_output\n",
      "ℹ Using CPU\n",
      "\u001b[1m\n",
      "=========================== Initializing pipeline ===========================\u001b[0m\n",
      "✔ Initialized pipeline\n",
      "\u001b[1m\n",
      "============================= Training pipeline =============================\u001b[0m\n",
      "ℹ Pipeline: ['tok2vec', 'ner']\n",
      "ℹ Initial learn rate: 0.001\n",
      "E    #       LOSS TOK2VEC  LOSS NER  ENTS_F  ENTS_P  ENTS_R  SCORE \n",
      "---  ------  ------------  --------  ------  ------  ------  ------\n",
      "  0       0          0.00     46.50    0.00    0.00    0.00    0.00\n",
      " 17     200         17.56   1118.80  100.00  100.00  100.00    1.00\n",
      " 37     400          0.00      0.00  100.00  100.00  100.00    1.00\n",
      " 63     600          0.00      0.00  100.00  100.00  100.00    1.00\n",
      " 94     800          0.00      0.00  100.00  100.00  100.00    1.00\n",
      "131    1000          0.00      0.00  100.00  100.00  100.00    1.00\n",
      "178    1200          0.00      0.00  100.00  100.00  100.00    1.00\n",
      "233    1400          0.00      0.00  100.00  100.00  100.00    1.00\n",
      "299    1600          0.00      0.00  100.00  100.00  100.00    1.00\n",
      "380    1800          0.00      0.00  100.00  100.00  100.00    1.00\n",
      "✔ Saved pipeline to output directory\n",
      "spacy_output\\model-last\n"
     ]
    },
    {
     "name": "stderr",
     "output_type": "stream",
     "text": [
      "2023-01-15 22:57:53.870233: W tensorflow/stream_executor/platform/default/dso_loader.cc:64] Could not load dynamic library 'cudart64_110.dll'; dlerror: cudart64_110.dll not found\n",
      "2023-01-15 22:57:53.871342: I tensorflow/stream_executor/cuda/cudart_stub.cc:29] Ignore above cudart dlerror if you do not have a GPU set up on your machine.\n",
      "c:\\Users\\Vijay\\anaconda3\\envs\\capestone_1\\lib\\site-packages\\scipy\\__init__.py:146: UserWarning: A NumPy version >=1.16.5 and <1.23.0 is required for this version of SciPy (detected version 1.23.3\n",
      "  warnings.warn(f\"A NumPy version >={np_minversion} and <{np_maxversion}\"\n",
      "2023-01-15 22:58:03.236084: W tensorflow/stream_executor/platform/default/dso_loader.cc:64] Could not load dynamic library 'nvcuda.dll'; dlerror: nvcuda.dll not found\n",
      "2023-01-15 22:58:03.237220: W tensorflow/stream_executor/cuda/cuda_driver.cc:269] failed call to cuInit: UNKNOWN ERROR (303)\n",
      "2023-01-15 22:58:03.266892: I tensorflow/stream_executor/cuda/cuda_diagnostics.cc:169] retrieving CUDA diagnostic information for host: Vijay-Srinivasan-laptop\n",
      "2023-01-15 22:58:03.268688: I tensorflow/stream_executor/cuda/cuda_diagnostics.cc:176] hostname: Vijay-Srinivasan-laptop\n",
      "[2023-01-15 22:58:04,907] [INFO] Set up nlp object from config\n",
      "[2023-01-15 22:58:04,929] [INFO] Pipeline: ['tok2vec', 'ner']\n",
      "[2023-01-15 22:58:04,935] [INFO] Created vocabulary\n",
      "[2023-01-15 22:58:04,937] [INFO] Finished initializing nlp object\n",
      "[2023-01-15 22:58:05,155] [INFO] Initialized pipeline components: ['tok2vec', 'ner']\n"
     ]
    }
   ],
   "source": [
    "#  Traing spacy model with the training data that we have created\n",
    "! python -m spacy train config.cfg --output spacy_output/ --paths.train spacy_input_examples/training_data.spacy --paths.dev spacy_input_examples/training_data.spacy"
   ]
  },
  {
   "cell_type": "code",
   "execution_count": 46,
   "metadata": {},
   "outputs": [],
   "source": [
    "# Let us load the model which has been built and check\n",
    "\n",
    "nlp_ner = spacy.load(\"spacy_output/model-best\") "
   ]
  },
  {
   "cell_type": "code",
   "execution_count": 54,
   "metadata": {},
   "outputs": [],
   "source": [
    "outt=nlp_ner(\"I wanted to know the dosage info of Moxikind-CV Dry Syrup\")"
   ]
  },
  {
   "cell_type": "code",
   "execution_count": 55,
   "metadata": {},
   "outputs": [
    {
     "name": "stdout",
     "output_type": "stream",
     "text": [
      "Actual text I wanted to know the dosage info of Moxikind-CV Dry Syrup\n",
      "Entity detected (Moxikind-CV Dry,)\n"
     ]
    },
    {
     "data": {
      "text/html": [
       "<span class=\"tex2jax_ignore\"><div class=\"entities\" style=\"line-height: 2.5; direction: ltr\">I wanted to know the dosage info of \n",
       "<mark class=\"entity\" style=\"background: #ddd; padding: 0.45em 0.6em; margin: 0 0.25em; line-height: 1; border-radius: 0.35em;\">\n",
       "    Moxikind-CV Dry\n",
       "    <span style=\"font-size: 0.8em; font-weight: bold; line-height: 1; border-radius: 0.35em; vertical-align: middle; margin-left: 0.5rem\">MEDICINE_NAME</span>\n",
       "</mark>\n",
       " Syrup</div></span>"
      ],
      "text/plain": [
       "<IPython.core.display.HTML object>"
      ]
     },
     "metadata": {},
     "output_type": "display_data"
    }
   ],
   "source": [
    "print(\"Actual text\",outt)\n",
    "print(\"Entity detected\",outt.ents)\n",
    "spacy.displacy.render(outt, style=\"ent\", jupyter=True) "
   ]
  },
  {
   "attachments": {},
   "cell_type": "markdown",
   "metadata": {},
   "source": [
    "##### Now at this stage we can load this model inside Action server in Rasa and we can pass text to get Entity. \n",
    "##### But inorder to integrate this model in Rasa pipeline and make Rasa to call this model when needed we need to package this model and install it in this environment "
   ]
  },
  {
   "cell_type": "code",
   "execution_count": 57,
   "metadata": {},
   "outputs": [
    {
     "name": "stdout",
     "output_type": "stream",
     "text": [
      "ℹ Building package artifacts: sdist\n",
      "✔ Loaded meta.json from file\n",
      "spacy_output\\model-best\\meta.json\n",
      "✔ Generated README.md from meta.json\n",
      "✔ Successfully created package directory 'en_pipeline-0.0.0'\n",
      "en_pipeline-0.0.0\n",
      "running sdist\n",
      "running egg_info\n",
      "creating en_pipeline.egg-info\n",
      "writing en_pipeline.egg-info\\PKG-INFO\n",
      "writing dependency_links to en_pipeline.egg-info\\dependency_links.txt\n",
      "writing entry points to en_pipeline.egg-info\\entry_points.txt\n",
      "writing requirements to en_pipeline.egg-info\\requires.txt\n",
      "writing top-level names to en_pipeline.egg-info\\top_level.txt\n",
      "writing manifest file 'en_pipeline.egg-info\\SOURCES.txt'\n",
      "reading manifest file 'en_pipeline.egg-info\\SOURCES.txt'\n",
      "reading manifest template 'MANIFEST.in'\n",
      "writing manifest file 'en_pipeline.egg-info\\SOURCES.txt'\n",
      "running check\n",
      "creating en_pipeline-0.0.0\n",
      "creating en_pipeline-0.0.0\\en_pipeline\n",
      "creating en_pipeline-0.0.0\\en_pipeline.egg-info\n",
      "creating en_pipeline-0.0.0\\en_pipeline\\en_pipeline-0.0.0\n",
      "creating en_pipeline-0.0.0\\en_pipeline\\en_pipeline-0.0.0\\ner\n",
      "creating en_pipeline-0.0.0\\en_pipeline\\en_pipeline-0.0.0\\tok2vec\n",
      "creating en_pipeline-0.0.0\\en_pipeline\\en_pipeline-0.0.0\\vocab\n",
      "copying files to en_pipeline-0.0.0...\n",
      "copying MANIFEST.in -> en_pipeline-0.0.0\n",
      "copying README.md -> en_pipeline-0.0.0\n",
      "copying meta.json -> en_pipeline-0.0.0\n",
      "copying setup.py -> en_pipeline-0.0.0\n",
      "copying en_pipeline\\__init__.py -> en_pipeline-0.0.0\\en_pipeline\n",
      "copying en_pipeline\\meta.json -> en_pipeline-0.0.0\\en_pipeline\n",
      "copying en_pipeline.egg-info\\PKG-INFO -> en_pipeline-0.0.0\\en_pipeline.egg-info\n",
      "copying en_pipeline.egg-info\\SOURCES.txt -> en_pipeline-0.0.0\\en_pipeline.egg-info\n",
      "copying en_pipeline.egg-info\\dependency_links.txt -> en_pipeline-0.0.0\\en_pipeline.egg-info\n",
      "copying en_pipeline.egg-info\\entry_points.txt -> en_pipeline-0.0.0\\en_pipeline.egg-info\n",
      "copying en_pipeline.egg-info\\not-zip-safe -> en_pipeline-0.0.0\\en_pipeline.egg-info\n",
      "copying en_pipeline.egg-info\\requires.txt -> en_pipeline-0.0.0\\en_pipeline.egg-info\n",
      "copying en_pipeline.egg-info\\top_level.txt -> en_pipeline-0.0.0\\en_pipeline.egg-info\n",
      "copying en_pipeline\\en_pipeline-0.0.0\\README.md -> en_pipeline-0.0.0\\en_pipeline\\en_pipeline-0.0.0\n",
      "copying en_pipeline\\en_pipeline-0.0.0\\config.cfg -> en_pipeline-0.0.0\\en_pipeline\\en_pipeline-0.0.0\n",
      "copying en_pipeline\\en_pipeline-0.0.0\\meta.json -> en_pipeline-0.0.0\\en_pipeline\\en_pipeline-0.0.0\n",
      "copying en_pipeline\\en_pipeline-0.0.0\\tokenizer -> en_pipeline-0.0.0\\en_pipeline\\en_pipeline-0.0.0\n",
      "copying en_pipeline\\en_pipeline-0.0.0\\ner\\cfg -> en_pipeline-0.0.0\\en_pipeline\\en_pipeline-0.0.0\\ner\n",
      "copying en_pipeline\\en_pipeline-0.0.0\\ner\\model -> en_pipeline-0.0.0\\en_pipeline\\en_pipeline-0.0.0\\ner\n",
      "copying en_pipeline\\en_pipeline-0.0.0\\ner\\moves -> en_pipeline-0.0.0\\en_pipeline\\en_pipeline-0.0.0\\ner\n",
      "copying en_pipeline\\en_pipeline-0.0.0\\tok2vec\\cfg -> en_pipeline-0.0.0\\en_pipeline\\en_pipeline-0.0.0\\tok2vec\n",
      "copying en_pipeline\\en_pipeline-0.0.0\\tok2vec\\model -> en_pipeline-0.0.0\\en_pipeline\\en_pipeline-0.0.0\\tok2vec\n",
      "copying en_pipeline\\en_pipeline-0.0.0\\vocab\\key2row -> en_pipeline-0.0.0\\en_pipeline\\en_pipeline-0.0.0\\vocab\n",
      "copying en_pipeline\\en_pipeline-0.0.0\\vocab\\lookups.bin -> en_pipeline-0.0.0\\en_pipeline\\en_pipeline-0.0.0\\vocab\n",
      "copying en_pipeline\\en_pipeline-0.0.0\\vocab\\strings.json -> en_pipeline-0.0.0\\en_pipeline\\en_pipeline-0.0.0\\vocab\n",
      "copying en_pipeline\\en_pipeline-0.0.0\\vocab\\vectors -> en_pipeline-0.0.0\\en_pipeline\\en_pipeline-0.0.0\\vocab\n",
      "copying en_pipeline\\en_pipeline-0.0.0\\vocab\\vectors.cfg -> en_pipeline-0.0.0\\en_pipeline\\en_pipeline-0.0.0\\vocab\n",
      "Writing en_pipeline-0.0.0\\setup.cfg\n",
      "creating dist\n",
      "Creating tar archive\n",
      "removing 'en_pipeline-0.0.0' (and everything under it)\n",
      "✔ Successfully created zipped Python package\n",
      "en_pipeline-0.0.0\\dist\\en_pipeline-0.0.0.tar.gz\n"
     ]
    },
    {
     "name": "stderr",
     "output_type": "stream",
     "text": [
      "2023-01-15 23:10:26.586314: W tensorflow/stream_executor/platform/default/dso_loader.cc:64] Could not load dynamic library 'cudart64_110.dll'; dlerror: cudart64_110.dll not found\n",
      "2023-01-15 23:10:26.587006: I tensorflow/stream_executor/cuda/cudart_stub.cc:29] Ignore above cudart dlerror if you do not have a GPU set up on your machine.\n",
      "c:\\Users\\Vijay\\anaconda3\\envs\\capestone_1\\lib\\site-packages\\scipy\\__init__.py:146: UserWarning: A NumPy version >=1.16.5 and <1.23.0 is required for this version of SciPy (detected version 1.23.3\n",
      "  warnings.warn(f\"A NumPy version >={np_minversion} and <{np_maxversion}\"\n",
      "2023-01-15 23:10:35.483494: W tensorflow/stream_executor/platform/default/dso_loader.cc:64] Could not load dynamic library 'nvcuda.dll'; dlerror: nvcuda.dll not found\n",
      "2023-01-15 23:10:35.484077: W tensorflow/stream_executor/cuda/cuda_driver.cc:269] failed call to cuInit: UNKNOWN ERROR (303)\n",
      "2023-01-15 23:10:35.500192: I tensorflow/stream_executor/cuda/cuda_diagnostics.cc:169] retrieving CUDA diagnostic information for host: Vijay-Srinivasan-laptop\n",
      "2023-01-15 23:10:35.501200: I tensorflow/stream_executor/cuda/cuda_diagnostics.cc:176] hostname: Vijay-Srinivasan-laptop\n",
      "warning: no files found matching 'LICENSE'\n",
      "warning: no files found matching 'LICENSES_SOURCES'\n"
     ]
    }
   ],
   "source": [
    "#  Convert the best model to python package. This step will create the tar file\n",
    "\n",
    "! python -m spacy package spacy_output/model-best . --force"
   ]
  },
  {
   "cell_type": "code",
   "execution_count": 58,
   "metadata": {},
   "outputs": [
    {
     "name": "stdout",
     "output_type": "stream",
     "text": [
      "Processing .\\en_pipeline-0.0.0\\dist\\custom_medicine_ner.tar.gz\n",
      "  Preparing metadata (setup.py): started\n",
      "  Preparing metadata (setup.py): finished with status 'done'\n",
      "Requirement already satisfied: spacy<3.5.0,>=3.4.4 in c:\\users\\vijay\\anaconda3\\envs\\capestone_1\\lib\\site-packages (from en-pipeline==0.0.0) (3.4.4)\n",
      "Requirement already satisfied: packaging>=20.0 in c:\\users\\vijay\\anaconda3\\envs\\capestone_1\\lib\\site-packages (from spacy<3.5.0,>=3.4.4->en-pipeline==0.0.0) (20.9)\n",
      "Requirement already satisfied: spacy-legacy<3.1.0,>=3.0.10 in c:\\users\\vijay\\anaconda3\\envs\\capestone_1\\lib\\site-packages (from spacy<3.5.0,>=3.4.4->en-pipeline==0.0.0) (3.0.11)\n",
      "Requirement already satisfied: wasabi<1.1.0,>=0.9.1 in c:\\users\\vijay\\anaconda3\\envs\\capestone_1\\lib\\site-packages (from spacy<3.5.0,>=3.4.4->en-pipeline==0.0.0) (0.10.1)\n",
      "Requirement already satisfied: jinja2 in c:\\users\\vijay\\anaconda3\\envs\\capestone_1\\lib\\site-packages (from spacy<3.5.0,>=3.4.4->en-pipeline==0.0.0) (3.1.2)\n",
      "Requirement already satisfied: numpy>=1.15.0 in c:\\users\\vijay\\anaconda3\\envs\\capestone_1\\lib\\site-packages (from spacy<3.5.0,>=3.4.4->en-pipeline==0.0.0) (1.23.3)\n",
      "Requirement already satisfied: pathy>=0.3.5 in c:\\users\\vijay\\anaconda3\\envs\\capestone_1\\lib\\site-packages (from spacy<3.5.0,>=3.4.4->en-pipeline==0.0.0) (0.10.1)\n",
      "Requirement already satisfied: smart-open<7.0.0,>=5.2.1 in c:\\users\\vijay\\anaconda3\\envs\\capestone_1\\lib\\site-packages (from spacy<3.5.0,>=3.4.4->en-pipeline==0.0.0) (6.3.0)\n",
      "Requirement already satisfied: spacy-loggers<2.0.0,>=1.0.0 in c:\\users\\vijay\\anaconda3\\envs\\capestone_1\\lib\\site-packages (from spacy<3.5.0,>=3.4.4->en-pipeline==0.0.0) (1.0.4)\n",
      "Requirement already satisfied: langcodes<4.0.0,>=3.2.0 in c:\\users\\vijay\\anaconda3\\envs\\capestone_1\\lib\\site-packages (from spacy<3.5.0,>=3.4.4->en-pipeline==0.0.0) (3.3.0)\n",
      "Requirement already satisfied: tqdm<5.0.0,>=4.38.0 in c:\\users\\vijay\\anaconda3\\envs\\capestone_1\\lib\\site-packages (from spacy<3.5.0,>=3.4.4->en-pipeline==0.0.0) (4.64.1)\n",
      "Requirement already satisfied: cymem<2.1.0,>=2.0.2 in c:\\users\\vijay\\anaconda3\\envs\\capestone_1\\lib\\site-packages (from spacy<3.5.0,>=3.4.4->en-pipeline==0.0.0) (2.0.7)\n",
      "Requirement already satisfied: murmurhash<1.1.0,>=0.28.0 in c:\\users\\vijay\\anaconda3\\envs\\capestone_1\\lib\\site-packages (from spacy<3.5.0,>=3.4.4->en-pipeline==0.0.0) (1.0.9)\n",
      "Requirement already satisfied: srsly<3.0.0,>=2.4.3 in c:\\users\\vijay\\anaconda3\\envs\\capestone_1\\lib\\site-packages (from spacy<3.5.0,>=3.4.4->en-pipeline==0.0.0) (2.4.5)\n",
      "Requirement already satisfied: catalogue<2.1.0,>=2.0.6 in c:\\users\\vijay\\anaconda3\\envs\\capestone_1\\lib\\site-packages (from spacy<3.5.0,>=3.4.4->en-pipeline==0.0.0) (2.0.8)\n",
      "Requirement already satisfied: thinc<8.2.0,>=8.1.0 in c:\\users\\vijay\\anaconda3\\envs\\capestone_1\\lib\\site-packages (from spacy<3.5.0,>=3.4.4->en-pipeline==0.0.0) (8.1.6)\n",
      "Requirement already satisfied: setuptools in c:\\users\\vijay\\anaconda3\\envs\\capestone_1\\lib\\site-packages (from spacy<3.5.0,>=3.4.4->en-pipeline==0.0.0) (63.4.1)\n",
      "Requirement already satisfied: preshed<3.1.0,>=3.0.2 in c:\\users\\vijay\\anaconda3\\envs\\capestone_1\\lib\\site-packages (from spacy<3.5.0,>=3.4.4->en-pipeline==0.0.0) (3.0.8)\n",
      "Requirement already satisfied: requests<3.0.0,>=2.13.0 in c:\\users\\vijay\\anaconda3\\envs\\capestone_1\\lib\\site-packages (from spacy<3.5.0,>=3.4.4->en-pipeline==0.0.0) (2.28.1)\n",
      "Requirement already satisfied: pydantic!=1.8,!=1.8.1,<1.11.0,>=1.7.4 in c:\\users\\vijay\\anaconda3\\envs\\capestone_1\\lib\\site-packages (from spacy<3.5.0,>=3.4.4->en-pipeline==0.0.0) (1.10.4)\n",
      "Requirement already satisfied: typer<0.8.0,>=0.3.0 in c:\\users\\vijay\\anaconda3\\envs\\capestone_1\\lib\\site-packages (from spacy<3.5.0,>=3.4.4->en-pipeline==0.0.0) (0.7.0)\n",
      "Requirement already satisfied: pyparsing>=2.0.2 in c:\\users\\vijay\\anaconda3\\envs\\capestone_1\\lib\\site-packages (from packaging>=20.0->spacy<3.5.0,>=3.4.4->en-pipeline==0.0.0) (3.0.9)\n",
      "Requirement already satisfied: typing-extensions>=4.2.0 in c:\\users\\vijay\\anaconda3\\envs\\capestone_1\\lib\\site-packages (from pydantic!=1.8,!=1.8.1,<1.11.0,>=1.7.4->spacy<3.5.0,>=3.4.4->en-pipeline==0.0.0) (4.4.0)\n",
      "Requirement already satisfied: certifi>=2017.4.17 in c:\\users\\vijay\\anaconda3\\envs\\capestone_1\\lib\\site-packages (from requests<3.0.0,>=2.13.0->spacy<3.5.0,>=3.4.4->en-pipeline==0.0.0) (2022.9.14)\n",
      "Requirement already satisfied: idna<4,>=2.5 in c:\\users\\vijay\\anaconda3\\envs\\capestone_1\\lib\\site-packages (from requests<3.0.0,>=2.13.0->spacy<3.5.0,>=3.4.4->en-pipeline==0.0.0) (3.4)\n",
      "Requirement already satisfied: urllib3<1.27,>=1.21.1 in c:\\users\\vijay\\anaconda3\\envs\\capestone_1\\lib\\site-packages (from requests<3.0.0,>=2.13.0->spacy<3.5.0,>=3.4.4->en-pipeline==0.0.0) (1.26.12)\n",
      "Requirement already satisfied: charset-normalizer<3,>=2 in c:\\users\\vijay\\anaconda3\\envs\\capestone_1\\lib\\site-packages (from requests<3.0.0,>=2.13.0->spacy<3.5.0,>=3.4.4->en-pipeline==0.0.0) (2.1.1)\n",
      "Requirement already satisfied: confection<1.0.0,>=0.0.1 in c:\\users\\vijay\\anaconda3\\envs\\capestone_1\\lib\\site-packages (from thinc<8.2.0,>=8.1.0->spacy<3.5.0,>=3.4.4->en-pipeline==0.0.0) (0.0.4)\n",
      "Requirement already satisfied: blis<0.8.0,>=0.7.8 in c:\\users\\vijay\\anaconda3\\envs\\capestone_1\\lib\\site-packages (from thinc<8.2.0,>=8.1.0->spacy<3.5.0,>=3.4.4->en-pipeline==0.0.0) (0.7.9)\n",
      "Requirement already satisfied: colorama in c:\\users\\vijay\\anaconda3\\envs\\capestone_1\\lib\\site-packages (from tqdm<5.0.0,>=4.38.0->spacy<3.5.0,>=3.4.4->en-pipeline==0.0.0) (0.4.5)\n",
      "Requirement already satisfied: click<9.0.0,>=7.1.1 in c:\\users\\vijay\\anaconda3\\envs\\capestone_1\\lib\\site-packages (from typer<0.8.0,>=0.3.0->spacy<3.5.0,>=3.4.4->en-pipeline==0.0.0) (8.1.3)\n",
      "Requirement already satisfied: MarkupSafe>=2.0 in c:\\users\\vijay\\anaconda3\\envs\\capestone_1\\lib\\site-packages (from jinja2->spacy<3.5.0,>=3.4.4->en-pipeline==0.0.0) (2.1.1)\n",
      "Building wheels for collected packages: en-pipeline\n",
      "  Building wheel for en-pipeline (setup.py): started\n",
      "  Building wheel for en-pipeline (setup.py): finished with status 'done'\n",
      "  Created wheel for en-pipeline: filename=en_pipeline-0.0.0-py3-none-any.whl size=5659979 sha256=23e63114170a7ba9a4c5ef8835ebc6c4d751ef769902c6b1f7796a09342ab3eb\n",
      "  Stored in directory: C:\\Users\\Vijay\\AppData\\Local\\Temp\\pip-ephem-wheel-cache-_jjes4j5\\wheels\\c1\\ff\\0b\\ee2360ecf39088aa11046388311aef1478e2bbffebf3ac830d\n",
      "Successfully built en-pipeline\n",
      "Installing collected packages: en-pipeline\n",
      "Successfully installed en-pipeline-0.0.0\n"
     ]
    },
    {
     "name": "stderr",
     "output_type": "stream",
     "text": [
      "\n",
      "[notice] A new release of pip available: 22.2.2 -> 22.3.1\n",
      "[notice] To update, run: python.exe -m pip install --upgrade pip\n"
     ]
    }
   ],
   "source": [
    "#  Now let us install  the  package which we have created\n",
    "\n",
    "! python -m pip  install en_pipeline-0.0.0/dist/custom_medicine_ner.tar.gz"
   ]
  },
  {
   "cell_type": "markdown",
   "metadata": {},
   "source": [
    "###  Now we have installed our custom Spacy NER model to this environment. We can use it in Rasa config files"
   ]
  }
 ],
 "metadata": {
  "kernelspec": {
   "display_name": "capestone_1",
   "language": "python",
   "name": "python3"
  },
  "language_info": {
   "codemirror_mode": {
    "name": "ipython",
    "version": 3
   },
   "file_extension": ".py",
   "mimetype": "text/x-python",
   "name": "python",
   "nbconvert_exporter": "python",
   "pygments_lexer": "ipython3",
   "version": "3.8.13"
  },
  "orig_nbformat": 4,
  "vscode": {
   "interpreter": {
    "hash": "8c0a34a4298d2f151cc8ca95d455f7382a554711e183c2944bfa9c0f28ba4652"
   }
  }
 },
 "nbformat": 4,
 "nbformat_minor": 2
}
